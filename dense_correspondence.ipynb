{
 "cells": [
  {
   "cell_type": "markdown",
   "metadata": {},
   "source": [
    "# Correspondence\n",
    "\n",
    "The notebooks in this folder replicate the experiments as performed for [CNNs on Surfaces using Rotation-Equivariant Features](https://doi.org/10.1145/3386569.3392437).\n",
    "\n",
    "The current notebook replicates the Correspondence experiments from section `5.2 Comparisons`.\n",
    "\n",
    "## Imports\n",
    "We start by importing dependencies."
   ]
  },
  {
   "cell_type": "code",
   "execution_count": 1,
   "metadata": {},
   "outputs": [],
   "source": [
    "# File reading and progressbar\n",
    "import os.path as osp\n",
    "import progressbar\n",
    "\n",
    "# PyTorch and PyTorch Geometric dependencies\n",
    "import torch\n",
    "import torch.nn as nn\n",
    "import torch.nn.functional as F\n",
    "import torch_geometric.transforms as T\n",
    "from torch_geometric.data import DataLoader\n",
    "from torch_geometric.io import read_off\n",
    "import trimesh as tm\n",
    "import numpy as np\n",
    "\n",
    "\n",
    "# Harmonic Surface Networks components\n",
    "# Layers\n",
    "from nn import (ECResNetBlock, ExtConvCplx, LiftBlock, ECHOBlock, VectorDropout,\n",
    "                ParallelTransportPool, ParallelTransportUnpool,\n",
    "                TangentLin, TangentNonLin, TangentPerceptron)\n",
    "# Utility functions\n",
    "from utils.harmonic import magnitudes, norm2D\n",
    "# Transforms\n",
    "from transforms import (HarmonicPrecomp, VectorHeat, MultiscaleRadiusGraph,\n",
    "                        NormalizeArea, ScaleMask, FilterNeighbours, Subsample)"
   ]
  },
  {
   "cell_type": "markdown",
   "metadata": {},
   "source": [
    "## Settings\n",
    "Next, we set a few parameters for our network. You can change these settings to experiment with different configurations of the network. Right now, the settings are set to the ones used in the paper."
   ]
  },
  {
   "cell_type": "code",
   "execution_count": 2,
   "metadata": {},
   "outputs": [],
   "source": [
    "# Band-limit for extended convolution\n",
    "band_limit = 1\n",
    "\n",
    "# Number of rings in the radial profile\n",
    "n_corr_rings = 2\n",
    "\n",
    "# Number of conv rings\n",
    "n_conv_rings = 3\n",
    "\n",
    "# Learn radial offset for correlations\n",
    "offset = True;\n",
    "\n",
    "\n",
    "# Number of filters per block\n",
    "nf = [32, 32]\n",
    "\n",
    "n_des = 12\n",
    "n_bins = 2\n",
    "\n",
    "desDim = 32\n",
    "\n",
    "# Ratios used for pooling\n",
    "ratios=[1, 0.25]\n",
    "\n",
    "# Number of datasets per batch\n",
    "batch_size = 1\n",
    "\n",
    "# Remeshed dataset or not:\n",
    "ForS = True\n",
    "\n",
    "# Toggle between original and remeshed FAUST dataset\n",
    "from datasets import FAUSTRemeshed as FAUST\n",
    "faust_dir = 'FAUST_5k'\n",
    "radii = [0.0425, 0.2] #radii = [0.07, 0.14]\n"
   ]
  },
  {
   "cell_type": "markdown",
   "metadata": {},
   "source": [
    "## Dataset\n",
    "To get our dataset ready for training, we need to perform the following steps:\n",
    "1. Provide a path to load and store the dataset.\n",
    "2. Define transformations to be performed on the dataset:\n",
    "    - A transformation that computes a multi-scale radius graph and precomputes the logarithmic map.\n",
    "    - A transformation that masks the edges and vertices per scale and precomputes convolution components.\n",
    "3. Assign and load the datasets."
   ]
  },
  {
   "cell_type": "code",
   "execution_count": 3,
   "metadata": {},
   "outputs": [
    {
     "name": "stderr",
     "output_type": "stream",
     "text": [
      "WARNING:root:The `pre_transform` argument differs from the one used in the pre-processed version of this dataset. If you really want to make use of another pre-processing technique, make sure to delete `data/FAUST_5k/processed` first.\n",
      "WARNING:root:The `pre_transform` argument differs from the one used in the pre-processed version of this dataset. If you really want to make use of another pre-processing technique, make sure to delete `data/FAUST_5k/processed` first.\n"
     ]
    }
   ],
   "source": [
    "# 1. Provide a path to load and store the dataset.\n",
    "# Make sure that you have created a folder 'data' somewhere\n",
    "# and that you have downloaded and moved the raw datasets there\n",
    "path = osp.join('data', faust_dir)\n",
    "\n",
    "# 2. Define transformations to be performed on the dataset:\n",
    "# Transformation that computes a multi-scale radius graph and precomputes the logarithmic map.\n",
    "pre_transform = T.Compose((\n",
    "    MultiscaleRadiusGraph(ratios, radii, loop=True, flow='target_to_source'),\n",
    "    VectorHeat(max_lvl=len(ratios)-1),\n",
    "    Subsample())\n",
    "\n",
    ")\n",
    "\n",
    "# Apply a random scale and random rotation to each shape\n",
    "#transform = None\n",
    "\n",
    "\n",
    "transform = T.Compose((T.Center(),\n",
    "    T.RandomRotate(45, axis=0),\n",
    "    T.RandomRotate(45, axis=1),\n",
    "    T.RandomRotate(45, axis=2))\n",
    ")\n",
    "\n",
    "\n",
    "\n",
    "# Transformations that mask the edges and vertices per scale and precomputes convolution components.\n",
    "scale0_transform = T.Compose((\n",
    "    FilterNeighbours(radius=radii[0]),\n",
    "    FCPrecomp(n_conv_rings, n_corr_rings, band_limit, max_r=radii[0]))\n",
    ")\n",
    "\n",
    "\n",
    "# 3. Assign and load the datasets.\n",
    "train_dataset = FAUST(path, True, pre_transform=pre_transform, transform=transform)\n",
    "test_dataset = FAUST(path, False, pre_transform=pre_transform, transform=transform)\n",
    "train_loader = DataLoader(train_dataset, batch_size=batch_size, shuffle=True)\n",
    "test_loader = DataLoader(test_dataset, batch_size=batch_size)\n",
    "\n",
    "# Load template shape for evaluation\n",
    "pathT = osp.join(path, 'raw/template/tr_reg_000.off')\n",
    "\n",
    "    \n",
    "template = read_off(pathT)\n",
    "n_classes = 4999\n",
    "pos_tem = template.pos.cpu().numpy()\n",
    "faces_tem = template.face.cpu().numpy().T\n",
    "num_nodes = train_dataset[0].num_nodes\n"
   ]
  },
  {
   "cell_type": "markdown",
   "metadata": {},
   "source": [
    "## Network architecture\n",
    "Now, we create the network architecture by creating a new `nn.Module`, `Net`. We first setup each layer in the `__init__` method of the `Net` class and define the steps to perform for each batch in the `forward` method. The following figure shows a schematic of the architecture we will be implementing:\n",
    "\n",
    "<img src=\"img/resnet_architecture.png\" width=\"800px\" />\n",
    "\n",
    "Let's get started!"
   ]
  },
  {
   "cell_type": "code",
   "execution_count": 4,
   "metadata": {},
   "outputs": [],
   "source": [
    "class Net(torch.nn.Module):\n",
    "    def __init__(self):\n",
    "        super(Net, self).__init__()\n",
    "\n",
    "        \n",
    "\n",
    "        self.lift = LiftBlock(3, 16, n_corr_rings, offset, MLP=False)\n",
    "                \n",
    "        self.resnet1 = ECResNetBlock(16, nf[0], band_limit, n_conv_rings)\n",
    "                \n",
    "        self.resnet2 = ECResNetBlock(nf[0], nf[0], band_limit, n_conv_rings)\n",
    "        \n",
    "        self.resnet3 = ECResNetBlock(nf[0], nf[0], band_limit, n_conv_rings)\n",
    "        \n",
    "        self.resnet4 = ECResNetBlock(nf[0], nf[0], band_limit, n_conv_rings)\n",
    "\n",
    "        self.resnet5 = ECResNetBlock(nf[0], nf[0], band_limit, n_conv_rings)\n",
    "        \n",
    "        self.resnet6 = ECResNetBlock(nf[0], nf[0], band_limit, n_conv_rings)\n",
    "        \n",
    "        self.resnet7 = ECResNetBlock(nf[0], nf[0], band_limit, n_conv_rings)\n",
    "        \n",
    "        self.resnet8 = ECResNetBlock(nf[0], 16, band_limit, n_conv_rings, back=True)\n",
    "\n",
    "        \n",
    "        self.echo = ECHOBlock(16, n_des, n_bins, desDim, band_limit, n_conv_rings, classify=False, mlpC=[128, 64])\n",
    "\n",
    "\n",
    "        self.D = nn.Dropout(p=0.5)\n",
    "        \n",
    "        self.d = VectorDropout(p=0.0)\n",
    "\n",
    "        \n",
    "        self.res1 = TangentPerceptron(16, nf[0])\n",
    "        \n",
    "        self.res2 = TangentPerceptron(nf[0], nf[0])\n",
    "        \n",
    "        self.res3 = TangentPerceptron(nf[0], nf[0])\n",
    "        \n",
    "        self.res4 = TangentPerceptron(nf[0], 16)\n",
    "\n",
    "        \n",
    "\n",
    "        self.lin1 = nn.Linear(32, 256)\n",
    "        self.lin2 = nn.Linear(256, n_classes)\n",
    "\n",
    "    def forward(self, data):\n",
    "        \n",
    "        ###############\n",
    "        ### Level 1 ###\n",
    "        ###############\n",
    "        \n",
    "        data_scale0 = scale0_transform(data)\n",
    "\n",
    "        \n",
    "        \n",
    "        attr_grad = (data_scale0.edge_index, data_scale0.pcmp_gather)\n",
    "\n",
    "        attr_conv = (data_scale0.edge_index, data_scale0.pcmp_scatter, \n",
    "                      data_scale0.connection)    \n",
    "        \n",
    "        attr_echo = (data_scale0.edge_index, data_scale0.pcmp_scatter, \n",
    "                     data_scale0.pcmp_echo, data_scale0.connection)\n",
    " \n",
    "        x = data.pos\n",
    "    \n",
    "        #x = F.relu(self.lin0(x))\n",
    "        #x = torch.cat((x[..., None], torch.zeros_like(x)[..., None]), dim=2)\n",
    "\n",
    "\n",
    "    \n",
    "        x1 = self.lift(x, *attr_grad)\n",
    "\n",
    "        x = self.resnet1(x1, *attr_conv) \n",
    "        \n",
    "        x2 = self.d(self.resnet2(x, *attr_conv) + self.res1(x1))\n",
    "        \n",
    "        x = self.resnet3(x2, *attr_conv)\n",
    "        \n",
    "        x3 = self.d(self.resnet4(x, *attr_conv) + self.res2(x2))\n",
    "        \n",
    "        x = self.resnet5(x3, *attr_conv)\n",
    "        \n",
    "        x4 = self.d(self.resnet6(x, *attr_conv) + self.res3(x3))\n",
    "        \n",
    "        x = self.resnet7(x4, *attr_conv)\n",
    "        \n",
    "        x = self.d(self.resnet8(x, *attr_conv) + self.res4(x4))\n",
    "        \n",
    "        x = self.echo(x, *attr_echo)\n",
    "                    \n",
    "\n",
    "        x = F.relu(self.lin1(x))\n",
    "        x = self.D(x)\n",
    "        x = self.lin2(x)\n",
    "             \n",
    "        return F.log_softmax(x, dim=1)"
   ]
  },
  {
   "cell_type": "markdown",
   "metadata": {},
   "source": [
    "## Training\n",
    "\n",
    "Phew, we're through the hard part. Now, let's get to training. First, move the network to the GPU and setup an optimizer."
   ]
  },
  {
   "cell_type": "code",
   "execution_count": 5,
   "metadata": {},
   "outputs": [],
   "source": [
    "# We want to train on a GPU. It'll take a long time on a CPU\n",
    "#print(torch.cuda.memory_summary(device='cuda', abbreviated=False))\n",
    "device = torch.device('cuda')\n",
    "# Move the network to the GPU\n",
    "model = Net().to(device)\n",
    "# Set up the ADAM optimizer with learning rate of 0.0076 (as used in H-Nets)\n",
    "rate = 0.01;\n",
    "optimizer = torch.optim.Adam(model.parameters(), lr=rate)\n",
    "\n",
    "decay1 = 0.96\n",
    "decay2 = 0.99\n",
    "\n",
    "# The target should be the index of each vertex\n",
    "#target = torch.arange(num_nodes, dtype=torch.long, device=device)"
   ]
  },
  {
   "cell_type": "code",
   "execution_count": 6,
   "metadata": {},
   "outputs": [],
   "source": [
    "def test(saveFile=None):\n",
    "    # Set model to 'evaluation' mode\n",
    "    model.eval()\n",
    "    meanError = 0\n",
    "    totalNodes = 0;\n",
    "    \n",
    "    count = 0;\n",
    "    for i, data in progressbar.progressbar(enumerate(test_loader)):\n",
    "        if not ForS:\n",
    "            data.y = torch.sub(data.y, 1)\n",
    "            \n",
    "        with torch.no_grad():\n",
    "            model.eval()\n",
    "\n",
    "            pred = model(data.to(device)).max(1)[1].long()\n",
    "        \n",
    "            #pred = gt_keys[pred]\n",
    "            #truth = gt_keys[data.y.squeeze()]\n",
    "        \n",
    "        \n",
    "\n",
    "            error = tm.computeError(pos_tem, faces_tem, pred.cpu().numpy(), data.y.squeeze().cpu().numpy())\n",
    "            if (count == 0):\n",
    "                E = error;\n",
    "            else:\n",
    "                E = np.vstack((E, error))\n",
    "            #correct += pred.eq(target).sum().item()\n",
    "            count = count + 1;\n",
    "            meanError += error.sum()\n",
    "            totalNodes += data.pos.size(0);\n",
    "        \n",
    "    if saveFile is not None:\n",
    "        np.save(saveFile, E)\n",
    "    return meanError / totalNodes;"
   ]
  },
  {
   "cell_type": "markdown",
   "metadata": {},
   "source": [
    "Next, define a training and test function."
   ]
  },
  {
   "cell_type": "code",
   "execution_count": 7,
   "metadata": {},
   "outputs": [],
   "source": [
    "def train(epoch):\n",
    "    # Set model to 'train' mode\n",
    "    model.train()\n",
    "    \n",
    "    '''\n",
    "    if (epoch > 0 and epoch <= 50):\n",
    "        for param_group in optimizer.param_groups:\n",
    "            param_group['lr'] = rate * np.power(decay1, epoch) #param_group['lr'] * decay;\n",
    "            \n",
    "    if (epoch > 50):\n",
    "        for param_group in optimizer.param_groups:\n",
    "            param_group['lr'] = rate * np.power(decay1, 50) * np.power(decay2, epoch-50)  \n",
    "            \n",
    "    '''\n",
    "            \n",
    "    if epoch > 40:\n",
    "        for param_group in optimizer.param_groups:\n",
    "            param_group['lr'] = 0.001\n",
    "            \n",
    "    if epoch > 60: \n",
    "        for param_group in optimizer.param_groups:\n",
    "            param_group['lr'] = 0.0005\n",
    "                \n",
    "\n",
    "    \n",
    "            \n",
    "    # Sort out progress bar\n",
    "    n_data = train_loader.__len__()\n",
    "    widgets = [progressbar.Percentage(), progressbar.Bar(), \n",
    "              progressbar.AdaptiveETA(), ' | Loss:', progressbar.Variable('loss'),]\n",
    "\n",
    "    bar = progressbar.ProgressBar(max_value=n_data, widgets=widgets)\n",
    "\n",
    "    i = 0;\n",
    "    totalL = 0.0;\n",
    "    for data in train_loader:\n",
    "    # Move training data to the GPU and optimize parameters\n",
    "        #with autograd.detect_anomaly():\n",
    "            data = data.to(device)\n",
    "            optimizer.zero_grad()\n",
    "            \n",
    "            if not ForS:\n",
    "                data.y = torch.sub(data.y, 1)\n",
    "                \n",
    "\n",
    "            L = F.nll_loss(model(data), data.y.squeeze())\n",
    "            \n",
    "            i = i + 1\n",
    "            totalL += L.item()\n",
    "            \n",
    "            bar.update(i, loss = (totalL / i) )\n",
    "            L.backward()\n",
    "            \n",
    "            optimizer.step()\n",
    "    \n",
    "    if (epoch > 0 and (epoch % 10) == 0):\n",
    "        test_acc = test(None)\n",
    "        print('Test: {:.6f}'.format(test_acc * np.sqrt(np.pi)))\n",
    "        "
   ]
  },
  {
   "cell_type": "markdown",
   "metadata": {},
   "source": [
    "Train for 100 epochs."
   ]
  },
  {
   "cell_type": "code",
   "execution_count": 8,
   "metadata": {
    "scrolled": true
   },
   "outputs": [
    {
     "name": "stdout",
     "output_type": "stream",
     "text": [
      "Epoch 0\n"
     ]
    },
    {
     "name": "stderr",
     "output_type": "stream",
     "text": [
      "100%|#######################################|ETA:  00:00:00 | Loss:loss:   6.78"
     ]
    },
    {
     "name": "stdout",
     "output_type": "stream",
     "text": [
      "Epoch 1\n"
     ]
    },
    {
     "name": "stderr",
     "output_type": "stream",
     "text": [
      "100%|#######################################|ETA:  00:00:00 | Loss:loss:   4.99"
     ]
    },
    {
     "name": "stdout",
     "output_type": "stream",
     "text": [
      "Epoch 2\n"
     ]
    },
    {
     "name": "stderr",
     "output_type": "stream",
     "text": [
      "100%|#######################################|ETA:  00:00:00 | Loss:loss:    3.9"
     ]
    },
    {
     "name": "stdout",
     "output_type": "stream",
     "text": [
      "Epoch 3\n"
     ]
    },
    {
     "name": "stderr",
     "output_type": "stream",
     "text": [
      "100%|#######################################|ETA:  00:00:00 | Loss:loss:   3.32"
     ]
    },
    {
     "name": "stdout",
     "output_type": "stream",
     "text": [
      "Epoch 4\n"
     ]
    },
    {
     "name": "stderr",
     "output_type": "stream",
     "text": [
      "100%|#######################################|ETA:  00:00:00 | Loss:loss:   2.95"
     ]
    },
    {
     "name": "stdout",
     "output_type": "stream",
     "text": [
      "Epoch 5\n"
     ]
    },
    {
     "name": "stderr",
     "output_type": "stream",
     "text": [
      "100%|#######################################|ETA:  00:00:00 | Loss:loss:   2.67"
     ]
    },
    {
     "name": "stdout",
     "output_type": "stream",
     "text": [
      "Epoch 6\n"
     ]
    },
    {
     "name": "stderr",
     "output_type": "stream",
     "text": [
      "100%|#######################################|ETA:  00:00:00 | Loss:loss:   2.44"
     ]
    },
    {
     "name": "stdout",
     "output_type": "stream",
     "text": [
      "Epoch 7\n"
     ]
    },
    {
     "name": "stderr",
     "output_type": "stream",
     "text": [
      "100%|#######################################|ETA:  00:00:00 | Loss:loss:   2.29"
     ]
    },
    {
     "name": "stdout",
     "output_type": "stream",
     "text": [
      "Epoch 8\n"
     ]
    },
    {
     "name": "stderr",
     "output_type": "stream",
     "text": [
      "100%|#######################################|ETA:  00:00:00 | Loss:loss:   2.13"
     ]
    },
    {
     "name": "stdout",
     "output_type": "stream",
     "text": [
      "Epoch 9\n"
     ]
    },
    {
     "name": "stderr",
     "output_type": "stream",
     "text": [
      "100%|#######################################|ETA:  00:00:00 | Loss:loss:   2.06"
     ]
    },
    {
     "name": "stdout",
     "output_type": "stream",
     "text": [
      "Epoch 10\n"
     ]
    },
    {
     "name": "stderr",
     "output_type": "stream",
     "text": [
      "| |                                         #        | 19 Elapsed Time: 0:01:44\n"
     ]
    },
    {
     "name": "stdout",
     "output_type": "stream",
     "text": [
      "Test: 0.054833\n",
      "Epoch 11\n"
     ]
    },
    {
     "name": "stderr",
     "output_type": "stream",
     "text": [
      "100%|#######################################|ETA:  00:00:00 | Loss:loss:   1.87"
     ]
    },
    {
     "name": "stdout",
     "output_type": "stream",
     "text": [
      "Epoch 12\n"
     ]
    },
    {
     "name": "stderr",
     "output_type": "stream",
     "text": [
      "100%|#######################################|ETA:  00:00:00 | Loss:loss:   1.83"
     ]
    },
    {
     "name": "stdout",
     "output_type": "stream",
     "text": [
      "Epoch 13\n"
     ]
    },
    {
     "name": "stderr",
     "output_type": "stream",
     "text": [
      "100%|#######################################|ETA:  00:00:00 | Loss:loss:   1.79"
     ]
    },
    {
     "name": "stdout",
     "output_type": "stream",
     "text": [
      "Epoch 14\n"
     ]
    },
    {
     "name": "stderr",
     "output_type": "stream",
     "text": [
      "100%|#######################################|ETA:  00:00:00 | Loss:loss:   1.72"
     ]
    },
    {
     "name": "stdout",
     "output_type": "stream",
     "text": [
      "Epoch 15\n"
     ]
    },
    {
     "name": "stderr",
     "output_type": "stream",
     "text": [
      "100%|#######################################|ETA:  00:00:00 | Loss:loss:   1.68"
     ]
    },
    {
     "name": "stdout",
     "output_type": "stream",
     "text": [
      "Epoch 16\n"
     ]
    },
    {
     "name": "stderr",
     "output_type": "stream",
     "text": [
      "100%|#######################################|ETA:  00:00:00 | Loss:loss:   1.63"
     ]
    },
    {
     "name": "stdout",
     "output_type": "stream",
     "text": [
      "Epoch 17\n"
     ]
    },
    {
     "name": "stderr",
     "output_type": "stream",
     "text": [
      "100%|#######################################|ETA:  00:00:00 | Loss:loss:    1.6"
     ]
    },
    {
     "name": "stdout",
     "output_type": "stream",
     "text": [
      "Epoch 18\n"
     ]
    },
    {
     "name": "stderr",
     "output_type": "stream",
     "text": [
      "100%|#######################################|ETA:  00:00:00 | Loss:loss:   1.58"
     ]
    },
    {
     "name": "stdout",
     "output_type": "stream",
     "text": [
      "Epoch 19\n"
     ]
    },
    {
     "name": "stderr",
     "output_type": "stream",
     "text": [
      "100%|#######################################|ETA:  00:00:00 | Loss:loss:   1.55"
     ]
    },
    {
     "name": "stdout",
     "output_type": "stream",
     "text": [
      "Epoch 20\n"
     ]
    },
    {
     "name": "stderr",
     "output_type": "stream",
     "text": [
      "| |                                                # | 19 Elapsed Time: 0:01:44\n"
     ]
    },
    {
     "name": "stdout",
     "output_type": "stream",
     "text": [
      "Test: 0.028119\n",
      "Epoch 21\n"
     ]
    },
    {
     "name": "stderr",
     "output_type": "stream",
     "text": [
      "100%|#######################################|ETA:  00:00:00 | Loss:loss:   1.49"
     ]
    },
    {
     "name": "stdout",
     "output_type": "stream",
     "text": [
      "Epoch 22\n"
     ]
    },
    {
     "name": "stderr",
     "output_type": "stream",
     "text": [
      "100%|#######################################|ETA:  00:00:00 | Loss:loss:   1.49"
     ]
    },
    {
     "name": "stdout",
     "output_type": "stream",
     "text": [
      "Epoch 23\n"
     ]
    },
    {
     "name": "stderr",
     "output_type": "stream",
     "text": [
      "100%|#######################################|ETA:  00:00:00 | Loss:loss:   1.48"
     ]
    },
    {
     "name": "stdout",
     "output_type": "stream",
     "text": [
      "Epoch 24\n"
     ]
    },
    {
     "name": "stderr",
     "output_type": "stream",
     "text": [
      "100%|#######################################|ETA:  00:00:00 | Loss:loss:   1.44"
     ]
    },
    {
     "name": "stdout",
     "output_type": "stream",
     "text": [
      "Epoch 25\n"
     ]
    },
    {
     "name": "stderr",
     "output_type": "stream",
     "text": [
      "100%|#######################################|ETA:  00:00:00 | Loss:loss:   1.43"
     ]
    },
    {
     "name": "stdout",
     "output_type": "stream",
     "text": [
      "Epoch 26\n"
     ]
    },
    {
     "name": "stderr",
     "output_type": "stream",
     "text": [
      "100%|#######################################|ETA:  00:00:00 | Loss:loss:    1.4"
     ]
    },
    {
     "name": "stdout",
     "output_type": "stream",
     "text": [
      "Epoch 27\n"
     ]
    },
    {
     "name": "stderr",
     "output_type": "stream",
     "text": [
      "100%|#######################################|ETA:  00:00:00 | Loss:loss:    1.4"
     ]
    },
    {
     "name": "stdout",
     "output_type": "stream",
     "text": [
      "Epoch 28\n"
     ]
    },
    {
     "name": "stderr",
     "output_type": "stream",
     "text": [
      "100%|#######################################|ETA:  00:00:00 | Loss:loss:   1.38"
     ]
    },
    {
     "name": "stdout",
     "output_type": "stream",
     "text": [
      "Epoch 29\n"
     ]
    },
    {
     "name": "stderr",
     "output_type": "stream",
     "text": [
      "100%|#######################################|ETA:  00:00:00 | Loss:loss:   1.36"
     ]
    },
    {
     "name": "stdout",
     "output_type": "stream",
     "text": [
      "Epoch 30\n"
     ]
    },
    {
     "name": "stderr",
     "output_type": "stream",
     "text": [
      "| |                                           #      | 19 Elapsed Time: 0:01:44\n"
     ]
    },
    {
     "name": "stdout",
     "output_type": "stream",
     "text": [
      "Test: 0.024442\n",
      "Epoch 31\n"
     ]
    },
    {
     "name": "stderr",
     "output_type": "stream",
     "text": [
      "100%|#######################################|ETA:  00:00:00 | Loss:loss:   1.38"
     ]
    },
    {
     "name": "stdout",
     "output_type": "stream",
     "text": [
      "Epoch 32\n"
     ]
    },
    {
     "name": "stderr",
     "output_type": "stream",
     "text": [
      "100%|#######################################|ETA:  00:00:00 | Loss:loss:   1.37"
     ]
    },
    {
     "name": "stdout",
     "output_type": "stream",
     "text": [
      "Epoch 33\n"
     ]
    },
    {
     "name": "stderr",
     "output_type": "stream",
     "text": [
      "100%|#######################################|ETA:  00:00:00 | Loss:loss:   1.33"
     ]
    },
    {
     "name": "stdout",
     "output_type": "stream",
     "text": [
      "Epoch 34\n"
     ]
    },
    {
     "name": "stderr",
     "output_type": "stream",
     "text": [
      "100%|#######################################|ETA:  00:00:00 | Loss:loss:   1.34"
     ]
    },
    {
     "name": "stdout",
     "output_type": "stream",
     "text": [
      "Epoch 35\n"
     ]
    },
    {
     "name": "stderr",
     "output_type": "stream",
     "text": [
      "100%|#######################################|ETA:  00:00:00 | Loss:loss:    1.3"
     ]
    },
    {
     "name": "stdout",
     "output_type": "stream",
     "text": [
      "Epoch 36\n"
     ]
    },
    {
     "name": "stderr",
     "output_type": "stream",
     "text": [
      "100%|#######################################|ETA:  00:00:00 | Loss:loss:    1.3"
     ]
    },
    {
     "name": "stdout",
     "output_type": "stream",
     "text": [
      "Epoch 37\n"
     ]
    },
    {
     "name": "stderr",
     "output_type": "stream",
     "text": [
      "100%|#######################################|ETA:  00:00:00 | Loss:loss:   1.29"
     ]
    },
    {
     "name": "stdout",
     "output_type": "stream",
     "text": [
      "Epoch 38\n"
     ]
    },
    {
     "name": "stderr",
     "output_type": "stream",
     "text": [
      "100%|#######################################|ETA:  00:00:00 | Loss:loss:   1.27"
     ]
    },
    {
     "name": "stdout",
     "output_type": "stream",
     "text": [
      "Epoch 39\n"
     ]
    },
    {
     "name": "stderr",
     "output_type": "stream",
     "text": [
      "100%|#######################################|ETA:  00:00:00 | Loss:loss:   1.27"
     ]
    },
    {
     "name": "stdout",
     "output_type": "stream",
     "text": [
      "Epoch 40\n"
     ]
    },
    {
     "name": "stderr",
     "output_type": "stream",
     "text": [
      "| |                                         #        | 19 Elapsed Time: 0:01:44\n"
     ]
    },
    {
     "name": "stdout",
     "output_type": "stream",
     "text": [
      "Test: 0.021844\n",
      "Epoch 41\n"
     ]
    },
    {
     "name": "stderr",
     "output_type": "stream",
     "text": [
      "100%|#######################################|ETA:  00:00:00 | Loss:loss:    1.1"
     ]
    },
    {
     "name": "stdout",
     "output_type": "stream",
     "text": [
      "Epoch 42\n"
     ]
    },
    {
     "name": "stderr",
     "output_type": "stream",
     "text": [
      "100%|#######################################|ETA:  00:00:00 | Loss:loss:   1.03"
     ]
    },
    {
     "name": "stdout",
     "output_type": "stream",
     "text": [
      "Epoch 43\n"
     ]
    },
    {
     "name": "stderr",
     "output_type": "stream",
     "text": [
      "100%|#######################################|ETA:  00:00:00 | Loss:loss:   1.02"
     ]
    },
    {
     "name": "stdout",
     "output_type": "stream",
     "text": [
      "Epoch 44\n"
     ]
    },
    {
     "name": "stderr",
     "output_type": "stream",
     "text": [
      "100%|#######################################|ETA:  00:00:00 | Loss:loss:   1.01"
     ]
    },
    {
     "name": "stdout",
     "output_type": "stream",
     "text": [
      "Epoch 45\n"
     ]
    },
    {
     "name": "stderr",
     "output_type": "stream",
     "text": [
      "100%|#######################################|ETA:  00:00:00 | Loss:loss:  0.994"
     ]
    },
    {
     "name": "stdout",
     "output_type": "stream",
     "text": [
      "Epoch 46\n"
     ]
    },
    {
     "name": "stderr",
     "output_type": "stream",
     "text": [
      "100%|#######################################|ETA:  00:00:00 | Loss:loss:  0.988"
     ]
    },
    {
     "name": "stdout",
     "output_type": "stream",
     "text": [
      "Epoch 47\n"
     ]
    },
    {
     "name": "stderr",
     "output_type": "stream",
     "text": [
      "100%|#######################################|ETA:  00:00:00 | Loss:loss:  0.979"
     ]
    },
    {
     "name": "stdout",
     "output_type": "stream",
     "text": [
      "Epoch 48\n"
     ]
    },
    {
     "name": "stderr",
     "output_type": "stream",
     "text": [
      "100%|#######################################|ETA:  00:00:00 | Loss:loss:  0.974"
     ]
    },
    {
     "name": "stdout",
     "output_type": "stream",
     "text": [
      "Epoch 49\n"
     ]
    },
    {
     "name": "stderr",
     "output_type": "stream",
     "text": [
      "100%|#######################################|ETA:  00:00:00 | Loss:loss:   0.97"
     ]
    },
    {
     "name": "stdout",
     "output_type": "stream",
     "text": [
      "Epoch 50\n"
     ]
    },
    {
     "name": "stderr",
     "output_type": "stream",
     "text": [
      "| |                                              #   | 19 Elapsed Time: 0:01:45\n"
     ]
    },
    {
     "name": "stdout",
     "output_type": "stream",
     "text": [
      "Test: 0.018272\n",
      "Epoch 51\n"
     ]
    },
    {
     "name": "stderr",
     "output_type": "stream",
     "text": [
      "100%|#######################################|ETA:  00:00:00 | Loss:loss:  0.959"
     ]
    },
    {
     "name": "stdout",
     "output_type": "stream",
     "text": [
      "Epoch 52\n"
     ]
    },
    {
     "name": "stderr",
     "output_type": "stream",
     "text": [
      "100%|#######################################|ETA:  00:00:00 | Loss:loss:  0.952"
     ]
    },
    {
     "name": "stdout",
     "output_type": "stream",
     "text": [
      "Epoch 53\n"
     ]
    },
    {
     "name": "stderr",
     "output_type": "stream",
     "text": [
      "100%|#######################################|ETA:  00:00:00 | Loss:loss:  0.948"
     ]
    },
    {
     "name": "stdout",
     "output_type": "stream",
     "text": [
      "Epoch 54\n"
     ]
    },
    {
     "name": "stderr",
     "output_type": "stream",
     "text": [
      "100%|#######################################|ETA:  00:00:00 | Loss:loss:  0.944"
     ]
    },
    {
     "name": "stdout",
     "output_type": "stream",
     "text": [
      "Epoch 55\n"
     ]
    },
    {
     "name": "stderr",
     "output_type": "stream",
     "text": [
      "100%|#######################################|ETA:  00:00:00 | Loss:loss:  0.941"
     ]
    },
    {
     "name": "stdout",
     "output_type": "stream",
     "text": [
      "Epoch 56\n"
     ]
    },
    {
     "name": "stderr",
     "output_type": "stream",
     "text": [
      "100%|#######################################|ETA:  00:00:00 | Loss:loss:  0.937"
     ]
    },
    {
     "name": "stdout",
     "output_type": "stream",
     "text": [
      "Epoch 57\n"
     ]
    },
    {
     "name": "stderr",
     "output_type": "stream",
     "text": [
      "100%|#######################################|ETA:  00:00:00 | Loss:loss:  0.934"
     ]
    },
    {
     "name": "stdout",
     "output_type": "stream",
     "text": [
      "Epoch 58\n"
     ]
    },
    {
     "name": "stderr",
     "output_type": "stream",
     "text": [
      "100%|#######################################|ETA:  00:00:00 | Loss:loss:   0.93"
     ]
    },
    {
     "name": "stdout",
     "output_type": "stream",
     "text": [
      "Epoch 59\n"
     ]
    },
    {
     "name": "stderr",
     "output_type": "stream",
     "text": [
      "100%|#######################################|ETA:  00:00:00 | Loss:loss:  0.925"
     ]
    },
    {
     "name": "stdout",
     "output_type": "stream",
     "text": [
      "Epoch 60\n"
     ]
    },
    {
     "name": "stderr",
     "output_type": "stream",
     "text": [
      "| |                                               #  | 19 Elapsed Time: 0:01:45\n"
     ]
    },
    {
     "name": "stdout",
     "output_type": "stream",
     "text": [
      "Test: 0.018430\n",
      "Epoch 61\n"
     ]
    },
    {
     "name": "stderr",
     "output_type": "stream",
     "text": [
      "100%|#######################################|ETA:  00:00:00 | Loss:loss:   0.91"
     ]
    },
    {
     "name": "stdout",
     "output_type": "stream",
     "text": [
      "Epoch 62\n"
     ]
    },
    {
     "name": "stderr",
     "output_type": "stream",
     "text": [
      "100%|#######################################|ETA:  00:00:00 | Loss:loss:  0.905"
     ]
    },
    {
     "name": "stdout",
     "output_type": "stream",
     "text": [
      "Epoch 63\n"
     ]
    },
    {
     "name": "stderr",
     "output_type": "stream",
     "text": [
      "100%|#######################################|ETA:  00:00:00 | Loss:loss:  0.903"
     ]
    },
    {
     "name": "stdout",
     "output_type": "stream",
     "text": [
      "Epoch 64\n"
     ]
    },
    {
     "name": "stderr",
     "output_type": "stream",
     "text": [
      "100%|#######################################|ETA:  00:00:00 | Loss:loss:  0.902"
     ]
    },
    {
     "name": "stdout",
     "output_type": "stream",
     "text": [
      "Epoch 65\n"
     ]
    },
    {
     "name": "stderr",
     "output_type": "stream",
     "text": [
      "100%|#######################################|ETA:  00:00:00 | Loss:loss:    0.9"
     ]
    },
    {
     "name": "stdout",
     "output_type": "stream",
     "text": [
      "Epoch 66\n"
     ]
    },
    {
     "name": "stderr",
     "output_type": "stream",
     "text": [
      "100%|#######################################|ETA:  00:00:00 | Loss:loss:  0.898"
     ]
    },
    {
     "name": "stdout",
     "output_type": "stream",
     "text": [
      "Epoch 67\n"
     ]
    },
    {
     "name": "stderr",
     "output_type": "stream",
     "text": [
      "100%|#######################################|ETA:  00:00:00 | Loss:loss:  0.895"
     ]
    },
    {
     "name": "stdout",
     "output_type": "stream",
     "text": [
      "Epoch 68\n"
     ]
    },
    {
     "name": "stderr",
     "output_type": "stream",
     "text": [
      "100%|#######################################|ETA:  00:00:00 | Loss:loss:  0.895"
     ]
    },
    {
     "name": "stdout",
     "output_type": "stream",
     "text": [
      "Epoch 69\n"
     ]
    },
    {
     "name": "stderr",
     "output_type": "stream",
     "text": [
      "100%|#######################################|ETA:  00:00:00 | Loss:loss:  0.893"
     ]
    },
    {
     "name": "stdout",
     "output_type": "stream",
     "text": [
      "Epoch 70\n"
     ]
    },
    {
     "name": "stderr",
     "output_type": "stream",
     "text": [
      "| |                               #                  | 19 Elapsed Time: 0:01:43\n"
     ]
    },
    {
     "name": "stdout",
     "output_type": "stream",
     "text": [
      "Test: 0.018668\n",
      "Epoch 71\n"
     ]
    },
    {
     "name": "stderr",
     "output_type": "stream",
     "text": [
      "100%|#######################################|ETA:  00:00:00 | Loss:loss:  0.891"
     ]
    },
    {
     "name": "stdout",
     "output_type": "stream",
     "text": [
      "Epoch 72\n"
     ]
    },
    {
     "name": "stderr",
     "output_type": "stream",
     "text": [
      "100%|#######################################|ETA:  00:00:00 | Loss:loss:  0.886"
     ]
    },
    {
     "name": "stdout",
     "output_type": "stream",
     "text": [
      "Epoch 73\n"
     ]
    },
    {
     "name": "stderr",
     "output_type": "stream",
     "text": [
      "100%|#######################################|ETA:  00:00:00 | Loss:loss:  0.887"
     ]
    },
    {
     "name": "stdout",
     "output_type": "stream",
     "text": [
      "Epoch 74\n"
     ]
    },
    {
     "name": "stderr",
     "output_type": "stream",
     "text": [
      "100%|#######################################|ETA:  00:00:00 | Loss:loss:  0.886"
     ]
    },
    {
     "name": "stdout",
     "output_type": "stream",
     "text": [
      "Epoch 75\n"
     ]
    },
    {
     "name": "stderr",
     "output_type": "stream",
     "text": [
      "100%|#######################################|ETA:  00:00:00 | Loss:loss:  0.884"
     ]
    },
    {
     "name": "stdout",
     "output_type": "stream",
     "text": [
      "Epoch 76\n"
     ]
    },
    {
     "name": "stderr",
     "output_type": "stream",
     "text": [
      "100%|#######################################|ETA:  00:00:00 | Loss:loss:  0.881"
     ]
    },
    {
     "name": "stdout",
     "output_type": "stream",
     "text": [
      "Epoch 77\n"
     ]
    },
    {
     "name": "stderr",
     "output_type": "stream",
     "text": [
      "100%|#######################################|ETA:  00:00:00 | Loss:loss:   0.88"
     ]
    },
    {
     "name": "stdout",
     "output_type": "stream",
     "text": [
      "Epoch 78\n"
     ]
    },
    {
     "name": "stderr",
     "output_type": "stream",
     "text": [
      "100%|#######################################|ETA:  00:00:00 | Loss:loss:  0.879"
     ]
    },
    {
     "name": "stdout",
     "output_type": "stream",
     "text": [
      "Epoch 79\n"
     ]
    },
    {
     "name": "stderr",
     "output_type": "stream",
     "text": [
      "100%|#######################################|ETA:  00:00:00 | Loss:loss:  0.877"
     ]
    }
   ],
   "source": [
    "#sP= '/home/tommy/Dropbox/specialMath/Harmonic/ECHONet/V7/plot/FAUST_5K/states/VFC_xyz_FULL_60'\n",
    "#model.load_state_dict(torch.load(sP))\n",
    "\n",
    "for epoch in range(80):\n",
    "    print('Epoch {}'.format(epoch))\n",
    "    train(epoch)"
   ]
  },
  {
   "cell_type": "code",
   "execution_count": 9,
   "metadata": {},
   "outputs": [],
   "source": [
    "## Plot\n",
    "statePath = '/home/tommy/Dropbox/specialMath/Harmonic/ECHONet/V7/plot/FAUST_5K/states/VFC_xyz_FULL_3'\n",
    "torch.save(model.state_dict(), statePath) "
   ]
  },
  {
   "cell_type": "markdown",
   "metadata": {},
   "source": [
    "## Testing\n",
    "Finally, we test our model on the test dataset. Setup a test function:"
   ]
  },
  {
   "cell_type": "markdown",
   "metadata": {},
   "source": [
    "And return the accuracy on the test set. Note that the exact accuracy for Remeshed FAUST will be very low. The princeton benchmark (see paper, fig 9) gives a better picture of the accuracy of the method in practice."
   ]
  },
  {
   "cell_type": "code",
   "execution_count": 10,
   "metadata": {},
   "outputs": [],
   "source": [
    "if ForS:\n",
    "    savePath = '/home/tommy/Dropbox/specialMath/Harmonic/ECHONet/V7/plot/FAUST_5K/'\n",
    "else:\n",
    "    savePath = '/home/tommy/Dropbox/specialMath/Harmonic/ECHONet/V7/plot/SCAPE_5K/'\n",
    "\n",
    "ID = 'VFC_xyz_FULL_3'\n",
    "\n",
    "rawFile = savePath + ID + '_raw.npy'\n",
    "\n",
    "plotFile = savePath + ID + '_plot.txt'\n",
    "\n",
    "nrmFile = savePath + ID + '_plot_nrm.txt'"
   ]
  },
  {
   "cell_type": "code",
   "execution_count": 11,
   "metadata": {},
   "outputs": [
    {
     "name": "stderr",
     "output_type": "stream",
     "text": [
      "| |                                        #         | 19 Elapsed Time: 0:01:44\n"
     ]
    },
    {
     "name": "stdout",
     "output_type": "stream",
     "text": [
      "Test: 0.018693\n"
     ]
    }
   ],
   "source": [
    "statePath = '/home/tommy/Dropbox/specialMath/Harmonic/ECHONet/V7/plot/FAUST_5K/states/VFC_xyz_FULL_3'\n",
    "model.load_state_dict(torch.load(statePath))\n",
    "\n",
    "test_acc = test(rawFile)\n",
    "\n",
    "print('Test: {:.6f}'.format(test_acc * np.sqrt(np.pi)))"
   ]
  },
  {
   "cell_type": "code",
   "execution_count": 12,
   "metadata": {},
   "outputs": [],
   "source": [
    "maxE = 0.2;\n",
    "samples = 100;\n",
    "\n",
    "rawError = np.sort(np.load(rawFile), axis=None);\n",
    "\n",
    "rI = torch.nonzero(torch.from_numpy(rawError)).cpu().numpy().astype(int)\n",
    "\n",
    "mD = np.amin(rawError[rI])\n",
    "\n",
    "plotError = tm.errorToPlot(rawError, maxE, samples)\n",
    "\n",
    "nrmError = tm.errorToPlot(rawError - mD, maxE, samples)\n",
    "\n",
    "np.savetxt(plotFile, plotError, fmt='%f')\n",
    "\n",
    "np.savetxt(nrmFile, nrmError, fmt='%f')"
   ]
  },
  {
   "cell_type": "code",
   "execution_count": null,
   "metadata": {},
   "outputs": [],
   "source": []
  },
  {
   "cell_type": "code",
   "execution_count": null,
   "metadata": {},
   "outputs": [],
   "source": []
  },
  {
   "cell_type": "code",
   "execution_count": null,
   "metadata": {},
   "outputs": [],
   "source": []
  }
 ],
 "metadata": {
  "kernelspec": {
   "display_name": "Python 3",
   "language": "python",
   "name": "python3"
  },
  "language_info": {
   "codemirror_mode": {
    "name": "ipython",
    "version": 3
   },
   "file_extension": ".py",
   "mimetype": "text/x-python",
   "name": "python",
   "nbconvert_exporter": "python",
   "pygments_lexer": "ipython3",
   "version": "3.6.9"
  }
 },
 "nbformat": 4,
 "nbformat_minor": 4
}
